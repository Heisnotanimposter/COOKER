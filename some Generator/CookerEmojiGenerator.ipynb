{
  "nbformat": 4,
  "nbformat_minor": 0,
  "metadata": {
    "colab": {
      "provenance": [],
      "authorship_tag": "ABX9TyNSGmeewPLjS10iYUQjBuXs",
      "include_colab_link": true
    },
    "kernelspec": {
      "name": "python3",
      "display_name": "Python 3"
    },
    "language_info": {
      "name": "python"
    }
  },
  "cells": [
    {
      "cell_type": "markdown",
      "metadata": {
        "id": "view-in-github",
        "colab_type": "text"
      },
      "source": [
        "<a href=\"https://colab.research.google.com/github/Heisnotanimposter/COOKER/blob/main/CookerEmojiGenerator.ipynb\" target=\"_parent\"><img src=\"https://colab.research.google.com/assets/colab-badge.svg\" alt=\"Open In Colab\"/></a>"
      ]
    },
    {
      "cell_type": "code",
      "execution_count": 1,
      "metadata": {
        "id": "p3qHmcyy_ltH",
        "colab": {
          "base_uri": "https://localhost:8080/",
          "height": 248
        },
        "outputId": "bc852e9f-a087-4e7a-f106-0464ff7635e5"
      },
      "outputs": [
        {
          "output_type": "error",
          "ename": "FileNotFoundError",
          "evalue": "ignored",
          "traceback": [
            "\u001b[0;31m---------------------------------------------------------------------------\u001b[0m",
            "\u001b[0;31mFileNotFoundError\u001b[0m                         Traceback (most recent call last)",
            "\u001b[0;32m<ipython-input-1-90a16b8a9ba5>\u001b[0m in \u001b[0;36m<cell line: 6>\u001b[0;34m()\u001b[0m\n\u001b[1;32m      4\u001b[0m \u001b[0;31m# List of food names from the fine-tuned text file\u001b[0m\u001b[0;34m\u001b[0m\u001b[0;34m\u001b[0m\u001b[0m\n\u001b[1;32m      5\u001b[0m \u001b[0mfood_names\u001b[0m \u001b[0;34m=\u001b[0m \u001b[0;34m[\u001b[0m\u001b[0;34m]\u001b[0m\u001b[0;34m\u001b[0m\u001b[0;34m\u001b[0m\u001b[0m\n\u001b[0;32m----> 6\u001b[0;31m \u001b[0;32mwith\u001b[0m \u001b[0mopen\u001b[0m\u001b[0;34m(\u001b[0m\u001b[0;34m'fine_tuned_food_names.txt'\u001b[0m\u001b[0;34m,\u001b[0m \u001b[0;34m'r'\u001b[0m\u001b[0;34m)\u001b[0m \u001b[0;32mas\u001b[0m \u001b[0mfile\u001b[0m\u001b[0;34m:\u001b[0m\u001b[0;34m\u001b[0m\u001b[0;34m\u001b[0m\u001b[0m\n\u001b[0m\u001b[1;32m      7\u001b[0m     \u001b[0mfood_names\u001b[0m \u001b[0;34m=\u001b[0m \u001b[0mfile\u001b[0m\u001b[0;34m.\u001b[0m\u001b[0mread\u001b[0m\u001b[0;34m(\u001b[0m\u001b[0;34m)\u001b[0m\u001b[0;34m.\u001b[0m\u001b[0msplitlines\u001b[0m\u001b[0;34m(\u001b[0m\u001b[0;34m)\u001b[0m\u001b[0;34m\u001b[0m\u001b[0;34m\u001b[0m\u001b[0m\n\u001b[1;32m      8\u001b[0m \u001b[0;34m\u001b[0m\u001b[0m\n",
            "\u001b[0;31mFileNotFoundError\u001b[0m: [Errno 2] No such file or directory: 'fine_tuned_food_names.txt'"
          ]
        }
      ],
      "source": [
        "import random\n",
        "import os\n",
        "\n",
        "# List of food names from the fine-tuned text file\n",
        "food_names = []\n",
        "with open('fine_tuned_food_names.txt', 'r') as file:\n",
        "    food_names = file.read().splitlines()\n",
        "\n",
        "# Dictionary mapping food names to emojis\n",
        "food_emojis = {\n",
        "    \"Pizza\": \"🍕\",\n",
        "    \"Burger\": \"🍔\",\n",
        "    \"Sushi\": \"🍣\",\n",
        "    \"Pasta\": \"🍝\",\n",
        "    \"Salad\": \"🥗\",\n",
        "    \"Steak\": \"🥩\",\n",
        "    \"Taco\": \"🌮\",\n",
        "    \"Sandwich\": \"🥪\",\n",
        "    \"Ice Cream\": \"🍦\",\n",
        "    \"Chicken Curry\": \"🍛\",\n",
        "    # Add more food names and emojis here\n",
        "}\n",
        "\n",
        "# Randomly select a food name\n",
        "random_food = random.choice(food_names)\n",
        "\n",
        "# Get the corresponding emoji for the selected food\n",
        "food_emoji = food_emojis.get(random_food, \"❓\")  # Use \"❓\" if no emoji is found for the food\n",
        "\n",
        "# Generate the HTML webpage\n",
        "html_content = f'''\n",
        "<!DOCTYPE html>\n",
        "<html>\n",
        "<head>\n",
        "    <title>Random Food Generator</title>\n",
        "</head>\n",
        "<body>\n",
        "    <h1>Random Food Name:</h1>\n",
        "    <p>{random_food} {food_emoji}</p>\n",
        "    <img src=\"food_images/{random_food}.jpg\" alt=\"Food Image\">\n",
        "</body>\n",
        "</html>\n",
        "'''\n",
        "\n",
        "# Create the HTML file\n",
        "html_file = 'random_food.html'\n",
        "with open(html_file, 'w') as file:\n",
        "    file.write(html_content)\n",
        "\n",
        "# Move the food image to the appropriate folder (food_images)\n",
        "food_image = f'{random_food}.jpg'\n",
        "if os.path.exists(food_image):\n",
        "    os.rename(food_image, f'food_images/{food_image}')\n",
        "else:\n",
        "    print(f'Food image \"{food_image}\" not found.')\n",
        "\n",
        "print(f'Random food name generated: {random_food} {food_emoji}')\n",
        "print(f'HTML webpage created: {html_file}')"
      ]
    },
    {
      "cell_type": "code",
      "source": [],
      "metadata": {
        "id": "6h9hp3KSA7rF"
      },
      "execution_count": null,
      "outputs": []
    }
  ]
}