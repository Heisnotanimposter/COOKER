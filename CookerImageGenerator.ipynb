{
  "nbformat": 4,
  "nbformat_minor": 0,
  "metadata": {
    "colab": {
      "provenance": [],
      "authorship_tag": "ABX9TyPMfk2VZKVC721SrZR50Bgc",
      "include_colab_link": true
    },
    "kernelspec": {
      "name": "python3",
      "display_name": "Python 3"
    },
    "language_info": {
      "name": "python"
    }
  },
  "cells": [
    {
      "cell_type": "markdown",
      "metadata": {
        "id": "view-in-github",
        "colab_type": "text"
      },
      "source": [
        "<a href=\"https://colab.research.google.com/github/Heisnotanimposter/COOKER/blob/main/CookerImageGenerator.ipynb\" target=\"_parent\"><img src=\"https://colab.research.google.com/assets/colab-badge.svg\" alt=\"Open In Colab\"/></a>"
      ]
    },
    {
      "cell_type": "code",
      "execution_count": null,
      "metadata": {
        "id": "24jzqYet-7SG"
      },
      "outputs": [],
      "source": [
        "import random\n",
        "import os\n",
        "\n",
        "# List of food names from the fine-tuned text file\n",
        "food_names = []\n",
        "with open('fine_tuned_food_names.txt', 'r') as file:\n",
        "    food_names = file.read().splitlines()\n",
        "\n",
        "# Randomly select a food name\n",
        "random_food = random.choice(food_names)\n",
        "\n",
        "# Generate the HTML webpage\n",
        "html_content = f'''\n",
        "<!DOCTYPE html>\n",
        "<html>\n",
        "<head>\n",
        "    <title>Random Food Generator</title>\n",
        "</head>\n",
        "<body>\n",
        "    <h1>Random Food Name:</h1>\n",
        "    <p>{random_food}</p>\n",
        "    <img src=\"food_images/{random_food}.jpg\" alt=\"Food Image\">\n",
        "</body>\n",
        "</html>\n",
        "'''\n",
        "\n",
        "# Create the HTML file\n",
        "html_file = 'random_food.html'\n",
        "with open(html_file, 'w') as file:\n",
        "    file.write(html_content)\n",
        "\n",
        "# Move the food image to the appropriate folder (food_images)\n",
        "food_image = f'{random_food}.jpg'\n",
        "if os.path.exists(food_image):\n",
        "    os.rename(food_image, f'food_images/{food_image}')\n",
        "else:\n",
        "    print(f'Food image \"{food_image}\" not found.')\n",
        "\n",
        "print(f'Random food name generated: {random_food}')\n",
        "print(f'HTML webpage created: {html_file}')\n"
      ]
    }
  ]
}