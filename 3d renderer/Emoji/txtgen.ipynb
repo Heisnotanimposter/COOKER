{
  "cells": [
    {
      "cell_type": "markdown",
      "metadata": {
        "colab_type": "text",
        "id": "view-in-github"
      },
      "source": [
        "<a href=\"https://colab.research.google.com/github/Heisnotanimposter/COOKER/blob/main/CookerImageGenerator.ipynb\" target=\"_parent\"><img src=\"https://colab.research.google.com/assets/colab-badge.svg\" alt=\"Open In Colab\"/></a>"
      ]
    },
    {
      "cell_type": "code",
      "execution_count": null,
      "metadata": {
        "id": "24jzqYet-7SG"
      },
      "outputs": [],
      "source": [
        "import os\n",
        "import openai\n",
        "\n",
        "def generate_food_names():\n",
        "    openai.api_key = os.getenv(\"OPENAI_API_KEY\")  # Safer way to get the API key\n",
        "    if not openai.api_key:\n",
        "        print(\"OpenAI API key not found. Please set the OPENAI_API_KEY environment variable.\")\n",
        "        return\n",
        "\n",
        "    try:\n",
        "        response = openai.Completion.create(\n",
        "            engine=\"text-davinci-003\",\n",
        "            prompt=\"Give me a list of 10 creative and delicious-sounding food names:\\n\",\n",
        "            temperature=0.7,\n",
        "            max_tokens=150,\n",
        "            n=1,\n",
        "            stop=None,\n",
        "            top_p=1,\n",
        "        )\n",
        "        food_names = response.choices[0].text.strip().splitlines()\n",
        "\n",
        "        with open(\"fine_tuned_food_names.txt\", \"w\") as file:\n",
        "            for name in food_names:\n",
        "                file.write(name + \"\\n\")\n",
        "        print(\"Food names generated and saved to 'fine_tuned_food_names.txt'\")\n",
        "\n",
        "    except openai.error.APIError as e:\n",
        "        print(f\"An OpenAI API error occurred: {e}\")\n",
        "\n",
        "# Directly call the function when the script is executed\n",
        "generate_food_names()"
      ]
    }
  ],
  "metadata": {
    "colab": {
      "authorship_tag": "ABX9TyPMfk2VZKVC721SrZR50Bgc",
      "include_colab_link": true,
      "provenance": []
    },
    "kernelspec": {
      "display_name": "Python 3",
      "name": "python3"
    },
    "language_info": {
      "name": "python"
    }
  },
  "nbformat": 4,
  "nbformat_minor": 0
}
